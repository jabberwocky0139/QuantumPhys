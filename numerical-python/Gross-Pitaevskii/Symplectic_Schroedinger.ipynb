{
 "cells": [
  {
   "cell_type": "markdown",
   "metadata": {},
   "source": [
    "Symplectic数値解法によるTime-depend Schrödinger方程式\n",
    "=========================================================="
   ]
  },
  {
   "cell_type": "markdown",
   "metadata": {},
   "source": [
    "NumPy・SciPyを利用してSymplectic解法を実装します. "
   ]
  },
  {
   "cell_type": "code",
   "execution_count": 1,
   "metadata": {
    "collapsed": true
   },
   "outputs": [],
   "source": [
    "# coding: utf-8\n",
    "\n",
    "import os\n",
    "import re\n",
    "import numpy as np\n",
    "from scipy.integrate import quad\n",
    "from scipy.fftpack import fft\n",
    "from scipy.fftpack import ifft\n",
    "from inspect import getsource"
   ]
  },
  {
   "cell_type": "markdown",
   "metadata": {},
   "source": [
    "`Import`\n",
    "--------\n",
    "\n",
    "### `os`\n",
    "shellを呼んだりなんだりと, OS環境の操作が可能. 後でGnuplotを呼んだりするのに用いる. \n",
    "\n",
    "### `re`\n",
    "正規表現ライブラリ. 文字列操作に便利.\n",
    "\n",
    "### `numpy`\n",
    "高速なArrayを提供. 演算に関する高速に動作するメソッドも多く持っているので, それを活用しつついかにfor文を書かないかが勝負になる. \n",
    "\n",
    "### `scipy.integrate.quad`\n",
    "積分. 積分範囲を`[-np.inf, np.inf]`とかにできるなど, 仕様がとっても便利な上にかなり高速. Cで適当なコードを書くより全然早かった. 恐らく内部では関数のタイプによってアルゴリズムを変えるような仕組みがある模様(適応刻み幅とか). \n",
    "\n",
    "### `scipy.fftpack.fft / ifft`\n",
    "フーリエ変換と逆フーリエ変換. これまた速度はかなり優秀なはず. \n",
    "\n",
    "### `inspect`\n",
    "関数の中身の情報を取得できるライブラリ. `getsource`は関数のソースコードを`string`で返すメソッド. 後々Gnuplotに渡すデータを細工するのに用いる. \n",
    "\n",
    "\n"
   ]
  },
  {
   "cell_type": "code",
   "execution_count": 2,
   "metadata": {
    "collapsed": true
   },
   "outputs": [],
   "source": [
    "# --*-- Set functions --*--\n",
    "\n",
    "# Set potential\n",
    "# Note1 : Active line must be attached semicolon(;) at the end of line\n",
    "# Note2 : Use the math function which work on gnuplot as well without any change\n",
    "def Potential(x):\n",
    "    #return x**2\n",
    "    return 0.01*(x**2 - 8*abs(x) + 16);\n",
    "\n",
    "# Potential on exp\n",
    "def V(x):\n",
    "    return -0.5j*Potential(x)\n",
    "\n",
    "# Initial function\n",
    "def Psi_0(x):\n",
    "    y = lambda z: np.exp(-2*(z-7)**2)\n",
    "    return y(x)/quad(y, -np.inf, np.inf)[0]/2\n",
    "\n",
    "# file writer\n",
    "def file_writer(filename, arr_func):\n",
    "    with open(filename, \"w\") as f:\n",
    "        for n, x in enumerate(np.linspace(-L/2, L/2, N)):\n",
    "            print(\"{0}\\t{1}\".format(x, abs(arr_func[n])), file=f)"
   ]
  },
  {
   "cell_type": "markdown",
   "metadata": {},
   "source": [
    "関数定義\n",
    "----------------------------------------\n",
    "### `Potential(x):`\n",
    "系のポテンシャル. 後でGnuplotにもこの関数を渡さなければいけないが, ベタ打ちすると`Potential`を変えたときにGnuplot側も書き換えなければいけないので, `inspect`ライブラリを用いてこれを簡略化する. そのとき上のようにコメントアウトした部分とアクティブな部分を区別するため, アクティブな行には文末にセミコロン(;)を付けるようにする. また, 用いる関数はGnuplotでもそのまま使えるもののみを使うように. 例えば\n",
    "```python\n",
    "import numpy as np\n",
    "def Potential(x):\n",
    "    np.sin(x)\n",
    "```\n",
    "ではGnuplotで呼べないので, \n",
    "```python\n",
    "from numpy import sin\n",
    "def Potential(x):\n",
    "    sin(x)\n",
    "```\n",
    "のようにすること. \n",
    "### `V(x):`\n",
    "Symplecticのexpの上に乗っかるやつ. \n",
    "### `Psi_0(x):`\n",
    "初期関数. ガウシアンにしている. 規格化っぽいことをしてます. \n",
    "### `file_writer(filename, arr_func):`\n",
    "ファイル書き込みを関数化. ファイル名と書き込むデータを引数に取る. あんまり知られてないけど, `print`関数は\n",
    "```python\n",
    "print(value, ..., sep=' ', end='\\n', file=sys.stdout, flush=False)\n",
    "```\n",
    "\n",
    "という仕様. デフォルトで`python file=sys.stdout`を持っているので, `file=f`とかにすればファイル書き込みに`print`が使える(一般にはよく`write`とか`writeline`関数が用いられるみたい). `end=\"\"`とかにすれば改行を飛ばせるし, `flush`もできるし, 結構優秀. \n"
   ]
  },
  {
   "cell_type": "code",
   "execution_count": 3,
   "metadata": {
    "collapsed": false
   },
   "outputs": [],
   "source": [
    "# --*-- Set constants and variables for initial condition --*--\n",
    "\n",
    "# Space step, Volume, Time step\n",
    "N, L, dt = 512, 25.0, 0.5\n",
    "\n",
    "# Set expK\n",
    "expK = np.array([])\n",
    "for n in range(0, N):\n",
    "    if(n < N/2):\n",
    "        expK = np.append(expK, np.exp(-0.5j*(2*np.pi*n/N)**2*dt))\n",
    "    else:\n",
    "        expK = np.append(expK, np.exp(-0.5j*(2*np.pi*(n-N)/N)**2*dt))\n",
    "\n",
    "# Set expV, initial function arr_Psi_old\n",
    "expV ,arr_Psi = np.array([]), np.array([], dtype=complex)\n",
    "for x in np.linspace(-L/2, L/2, N):\n",
    "    expV = np.append(expV, np.exp(V(x)*dt))\n",
    "    arr_Psi = np.append(arr_Psi, Psi_0(x))"
   ]
  },
  {
   "cell_type": "markdown",
   "metadata": {},
   "source": [
    "定数定義\n",
    "--------------------\n",
    "### `N`, `L`, `dt`\n",
    "`N`は空間分割数, `L`は体積(系の長さ), `dt`は時間刻み幅\n",
    "### expK\n",
    "Symplectic解法における運動項の時間発展演算子\n",
    "$$\\exp\\left(\\frac{1}{2}ik^2\\Delta t\\right)$$\n",
    "x-空間をFourier変換したので, kは\n",
    "$$ k = \\frac{2\\pi n}{N}\\ \\ (n<N/2)\\ \\ or\\ \\ \\frac{2\\pi (N-n)}{N}\\ \\ (n> N/2) $$\n",
    "であることに注意. \n",
    "### arr_Psi, expV\n",
    "arr_Psiは時間発展させたい関数を格納. 最初はPsi_0を入れることになる. 後々`complex type`のexpVを掛け合わせることになるので, そのことを考えて`type=complex`を付けています. \n",
    "\n",
    "expVはx-空間で掛けるものなので普通に格納. \n",
    "\n"
   ]
  },
  {
   "cell_type": "code",
   "execution_count": 4,
   "metadata": {
    "collapsed": false
   },
   "outputs": [],
   "source": [
    "#--*-- Time propagation by symplectic numerical solution --*--\n",
    "\n",
    "# Time length, Output interbal, Total file piece\n",
    "times, total_file = 40000, 500\n",
    "M = times//total_file\n",
    "for i in range(times):\n",
    "    # output time depend function\n",
    "    if(i%M == 0):\n",
    "        file_writer(\"output{0}.txt\".format(i//M), arr_Psi)\n",
    "    \n",
    "    # Multipling by time propagator of potential term\n",
    "    arr_Psi *= expV\n",
    "    \n",
    "    # Fourier transformation\n",
    "    arr_Psi = fft(arr_Psi)\n",
    "    \n",
    "    # Multipling time propagator of kinetic term\n",
    "    arr_Psi *= expK\n",
    "    \n",
    "    # Inverse fourier transformation\n",
    "    arr_Psi = ifft(arr_Psi)\n"
   ]
  },
  {
   "cell_type": "markdown",
   "metadata": {},
   "source": [
    "Symplectic時間発展\n",
    "------------------------\n",
    "コレがこのコードのメインディッシュなんですが, やってることはホントにそのまんま. こんなかんじにスマートに書けるのが`Python`のいいところだと思います. \n",
    "\n",
    "`numpy.array()`だと, 掛け算は要素ごとの掛け算になり, `return`も`numpy.array()`になります. Python標準の`List`だったら\n",
    "```python\n",
    "for n, i in enumerate(expV):\n",
    "    arr_Psi[n] *= i\n",
    "```\n",
    "みたいな`for`文が必要になるところ. `numpy`だから高速に動作するのでいいね. 上のコードだと2重ループになるのでアウトです. \n"
   ]
  },
  {
   "cell_type": "code",
   "execution_count": 5,
   "metadata": {
    "collapsed": false
   },
   "outputs": [
    {
     "data": {
      "text/plain": [
       "0"
      ]
     },
     "execution_count": 5,
     "metadata": {},
     "output_type": "execute_result"
    }
   ],
   "source": [
    "# --*-- Gnuplot --*--\n",
    "\n",
    "# Get potential function as string\n",
    "pattern = re.compile(\"(return.+;)\")\n",
    "m = pattern.search(getsource(Potential))\n",
    "str_potential = str(m.group(0))[7:-1]\n",
    "\n",
    "# System call for gnuplot\n",
    "gnuplot_call = 'gnuplot -e '\n",
    "start = '\"'\n",
    "set_range = 'set xr[{0}:{1}]; set yr[{2}:{3}]; '.format(-L/2, L/2, 0, 0.5)\n",
    "plot_initial = 'plot \\\\\"output0.txt\\\\\" w l lw 2 title \\\\\"t = 0\\\\\",{0} title \\\\\"potential\\\\\" w l lw 2; pause 2; '.format(str_potential)\n",
    "do_for_declaration = 'do for[i = {0}:{1}:1]'.format(1, total_file-1)\n",
    "do_for_start = \"{\"\n",
    "do_for_procedure = 'plot sprintf(\\\\\"output%d.txt\\\\\", i) title sprintf(\\\\\"t = %d\\\\\", i) w l lw 2, {0} title \\\\\"potential\\\\\" w l lw 2; pause 0.05;'.format(str_potential)\n",
    "end = '}\"'\n",
    "\n",
    "os.system(\"\".join([gnuplot_call, start, set_range, plot_initial, do_for_declaration, do_for_start, do_for_procedure, end]))\n",
    "\n",
    "os.system(\"rm output*.txt\")"
   ]
  },
  {
   "cell_type": "markdown",
   "metadata": {},
   "source": [
    "出力 - Gnuplot\n",
    "------------------------\n",
    "\n",
    "最後はGnuplotで動画をつくります. `matplotlib`でもいいんですが, なかなか動画を作るのが面倒なので. `os.system()`でshellが呼べるのでそれでGnuplotを直接呼んでます. `range`の変数とか`do for`のレンジとかは`format`文で指定してます. この辺はPython埋め込みが便利なところで, もしpltファイルを別に用意したら, `L`なり`total_file`なりが変わったときに,pltファイルの方も修正しなければならないのがとても面倒です. \n",
    "\n",
    "同様の理由からポテンシャルの関数も変数として用意してあげたい. というわけで`inspect.getsource()`を使って`Potential(x)`のソースコードを取得しています. そこから正規表現を用いて`return`から`;`までの部分を切り取ってあげてます. \n",
    "```python\n",
    "str_potential = str(m.group(0))[7:-1]\n",
    "```\n",
    "は`return`と`;`を切り取るようなスライスです. これで`str_potential`にはポテンシャル関数が`string`で格納されました. \n",
    "\n",
    "出力ファイルを沢山生成しているので最後に\n",
    "```python\n",
    "os.system(\"rm output*.txt\")\n",
    "```\n",
    "で全削除. 1ファイルだけにまとめることもできますが, そうするとファイルサイズが大きくなりすぎてGnuplotの読み込みが遅くなります. 動画を作るときはファイルは分割したほうが良いみたいです. "
   ]
  }
 ],
 "metadata": {
  "kernelspec": {
   "display_name": "Python 3",
   "language": "python",
   "name": "python3"
  },
  "language_info": {
   "codemirror_mode": {
    "name": "ipython",
    "version": 3
   },
   "file_extension": ".py",
   "mimetype": "text/x-python",
   "name": "python",
   "nbconvert_exporter": "python",
   "pygments_lexer": "ipython3",
   "version": "3.5.1+"
  }
 },
 "nbformat": 4,
 "nbformat_minor": 0
}
